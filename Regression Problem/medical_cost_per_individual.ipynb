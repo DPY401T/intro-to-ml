{
 "cells": [
  {
   "cell_type": "markdown",
   "id": "c51afc28-696e-4d8b-8ee2-68a9ee5cf8e1",
   "metadata": {},
   "source": [
    "## Step 1: Load packages, dataset and check the data we working with.\n",
    "\n",
    "* Is there anything wrong with the data?\n",
    "* Are there any anormalities with the data?\n",
    "* Do I need to fix or remove any of the data including null values?\n",
    "\n"
   ]
  },
  {
   "cell_type": "code",
   "execution_count": 124,
   "id": "5031d429-002b-4bee-a692-d27d2c1fbf9e",
   "metadata": {},
   "outputs": [],
   "source": [
    "#importing necesaary packages\n",
    "\n",
    "import numpy as np\n",
    "import pandas as pd\n",
    "import matplotlib as plt\n",
    "import seaborn as sb"
   ]
  },
  {
   "cell_type": "code",
   "execution_count": 125,
   "id": "c0c213e5-06f3-46aa-b1c9-4aaeccf2c50c",
   "metadata": {},
   "outputs": [
    {
     "data": {
      "text/html": [
       "<div>\n",
       "<style scoped>\n",
       "    .dataframe tbody tr th:only-of-type {\n",
       "        vertical-align: middle;\n",
       "    }\n",
       "\n",
       "    .dataframe tbody tr th {\n",
       "        vertical-align: top;\n",
       "    }\n",
       "\n",
       "    .dataframe thead th {\n",
       "        text-align: right;\n",
       "    }\n",
       "</style>\n",
       "<table border=\"1\" class=\"dataframe\">\n",
       "  <thead>\n",
       "    <tr style=\"text-align: right;\">\n",
       "      <th></th>\n",
       "      <th>age</th>\n",
       "      <th>sex</th>\n",
       "      <th>bmi</th>\n",
       "      <th>children</th>\n",
       "      <th>smoker</th>\n",
       "      <th>region</th>\n",
       "      <th>charges</th>\n",
       "    </tr>\n",
       "  </thead>\n",
       "  <tbody>\n",
       "    <tr>\n",
       "      <th>0</th>\n",
       "      <td>19</td>\n",
       "      <td>female</td>\n",
       "      <td>27.900</td>\n",
       "      <td>0</td>\n",
       "      <td>yes</td>\n",
       "      <td>southwest</td>\n",
       "      <td>16884.92400</td>\n",
       "    </tr>\n",
       "    <tr>\n",
       "      <th>1</th>\n",
       "      <td>18</td>\n",
       "      <td>male</td>\n",
       "      <td>33.770</td>\n",
       "      <td>1</td>\n",
       "      <td>no</td>\n",
       "      <td>southeast</td>\n",
       "      <td>1725.55230</td>\n",
       "    </tr>\n",
       "    <tr>\n",
       "      <th>2</th>\n",
       "      <td>28</td>\n",
       "      <td>male</td>\n",
       "      <td>33.000</td>\n",
       "      <td>3</td>\n",
       "      <td>no</td>\n",
       "      <td>southeast</td>\n",
       "      <td>4449.46200</td>\n",
       "    </tr>\n",
       "    <tr>\n",
       "      <th>3</th>\n",
       "      <td>33</td>\n",
       "      <td>male</td>\n",
       "      <td>22.705</td>\n",
       "      <td>0</td>\n",
       "      <td>no</td>\n",
       "      <td>northwest</td>\n",
       "      <td>21984.47061</td>\n",
       "    </tr>\n",
       "    <tr>\n",
       "      <th>4</th>\n",
       "      <td>32</td>\n",
       "      <td>male</td>\n",
       "      <td>28.880</td>\n",
       "      <td>0</td>\n",
       "      <td>no</td>\n",
       "      <td>northwest</td>\n",
       "      <td>3866.85520</td>\n",
       "    </tr>\n",
       "  </tbody>\n",
       "</table>\n",
       "</div>"
      ],
      "text/plain": [
       "   age     sex     bmi  children smoker     region      charges\n",
       "0   19  female  27.900         0    yes  southwest  16884.92400\n",
       "1   18    male  33.770         1     no  southeast   1725.55230\n",
       "2   28    male  33.000         3     no  southeast   4449.46200\n",
       "3   33    male  22.705         0     no  northwest  21984.47061\n",
       "4   32    male  28.880         0     no  northwest   3866.85520"
      ]
     },
     "execution_count": 125,
     "metadata": {},
     "output_type": "execute_result"
    }
   ],
   "source": [
    "df = pd.read_csv('/Users/mzwakhebesho/Documents/DPY401T Assignment/Regression Problem/insurance.csv')\n",
    "df.head()"
   ]
  },
  {
   "cell_type": "markdown",
   "id": "f15d63b5-216c-4b90-9d2a-79d82b5b0030",
   "metadata": {},
   "source": [
    "The data is usable.\n",
    "\n",
    "We can gather the following:\n",
    "* The first row in the data file defines the column headers\n",
    "* The headers are understandable enough to what each column represents.\n",
    "* Each row represents an entry for an individual: 6 input data points and one target, which tells us the cost amount of the insurance."
   ]
  },
  {
   "cell_type": "code",
   "execution_count": 126,
   "id": "95418ab0-56c0-487c-8bff-ecef77afb5b6",
   "metadata": {},
   "outputs": [
    {
     "name": "stdout",
     "output_type": "stream",
     "text": [
      "<class 'pandas.core.frame.DataFrame'>\n",
      "RangeIndex: 1338 entries, 0 to 1337\n",
      "Data columns (total 7 columns):\n",
      " #   Column    Non-Null Count  Dtype  \n",
      "---  ------    --------------  -----  \n",
      " 0   age       1338 non-null   int64  \n",
      " 1   sex       1338 non-null   object \n",
      " 2   bmi       1338 non-null   float64\n",
      " 3   children  1338 non-null   int64  \n",
      " 4   smoker    1338 non-null   object \n",
      " 5   region    1338 non-null   object \n",
      " 6   charges   1338 non-null   float64\n",
      "dtypes: float64(2), int64(2), object(3)\n",
      "memory usage: 73.3+ KB\n"
     ]
    }
   ],
   "source": [
    "# Now let's check complete information of each column\n",
    "df.info()"
   ]
  },
  {
   "cell_type": "code",
   "execution_count": 127,
   "id": "bb47d3ca-525c-450e-84f4-f3c315055e5a",
   "metadata": {},
   "outputs": [
    {
     "data": {
      "text/plain": [
       "(1338, 7)"
      ]
     },
     "execution_count": 127,
     "metadata": {},
     "output_type": "execute_result"
    }
   ],
   "source": [
    "# check the structure of the data\n",
    "df.shape\n",
    "\n",
    "# (1338, 7) : 1338 rows and 7 columns"
   ]
  },
  {
   "cell_type": "markdown",
   "id": "50f4ad54-6a8a-443a-bb29-e1df0f05a00f",
   "metadata": {},
   "source": [
    "Info cell shows data types of each column. We have categorical data in column: Sex, Smoker and Region.\n",
    "\n",
    "Another question we need to ask ourselves is Region influencing insurance costs.\n",
    "\n",
    "For now we going to check for null values"
   ]
  },
  {
   "cell_type": "code",
   "execution_count": 128,
   "id": "046de1f7-a1fc-4c49-ba64-8dc84e95fbe5",
   "metadata": {},
   "outputs": [
    {
     "data": {
      "text/plain": [
       "False"
      ]
     },
     "execution_count": 128,
     "metadata": {},
     "output_type": "execute_result"
    }
   ],
   "source": [
    "df.isnull().values.any()"
   ]
  },
  {
   "cell_type": "markdown",
   "id": "d810b48d-1831-4ea7-a2f2-c19b725fb6c8",
   "metadata": {},
   "source": [
    "Yay! We have no null values"
   ]
  },
  {
   "cell_type": "code",
   "execution_count": 129,
   "id": "2a666c5a-3e4e-4f80-8c98-40a2d1ca4cfc",
   "metadata": {},
   "outputs": [],
   "source": [
    "# Categorical data, we can use OneHot Encoding. Prefer not to complicate it.\n",
    "# Sex: Female - 0, Male - 1\n",
    "# Smoker: Yes - 1, No - 0\n",
    "\n",
    "try:\n",
    "    gender = {'male': 1,'female': 0}\n",
    "    is_smoker = {'yes': 1,'no': 0}\n",
    "    df.sex = [gender[item] for item in df.sex]\n",
    "    df.smoker = [is_smoker[item] for item in df.smoker]\n",
    "except Exception as exc:\n",
    "    print(f\"[EXCEPTION] The dataframe has been transversed. Only run this cell once. - {exc}\")"
   ]
  },
  {
   "cell_type": "code",
   "execution_count": 130,
   "id": "d501beea-422e-44d8-ae53-1d8ab13b4f89",
   "metadata": {},
   "outputs": [
    {
     "data": {
      "text/html": [
       "<div>\n",
       "<style scoped>\n",
       "    .dataframe tbody tr th:only-of-type {\n",
       "        vertical-align: middle;\n",
       "    }\n",
       "\n",
       "    .dataframe tbody tr th {\n",
       "        vertical-align: top;\n",
       "    }\n",
       "\n",
       "    .dataframe thead th {\n",
       "        text-align: right;\n",
       "    }\n",
       "</style>\n",
       "<table border=\"1\" class=\"dataframe\">\n",
       "  <thead>\n",
       "    <tr style=\"text-align: right;\">\n",
       "      <th></th>\n",
       "      <th>age</th>\n",
       "      <th>sex</th>\n",
       "      <th>bmi</th>\n",
       "      <th>children</th>\n",
       "      <th>smoker</th>\n",
       "      <th>region</th>\n",
       "      <th>charges</th>\n",
       "    </tr>\n",
       "  </thead>\n",
       "  <tbody>\n",
       "    <tr>\n",
       "      <th>0</th>\n",
       "      <td>19</td>\n",
       "      <td>0</td>\n",
       "      <td>27.900</td>\n",
       "      <td>0</td>\n",
       "      <td>1</td>\n",
       "      <td>southwest</td>\n",
       "      <td>16884.92400</td>\n",
       "    </tr>\n",
       "    <tr>\n",
       "      <th>1</th>\n",
       "      <td>18</td>\n",
       "      <td>1</td>\n",
       "      <td>33.770</td>\n",
       "      <td>1</td>\n",
       "      <td>0</td>\n",
       "      <td>southeast</td>\n",
       "      <td>1725.55230</td>\n",
       "    </tr>\n",
       "    <tr>\n",
       "      <th>2</th>\n",
       "      <td>28</td>\n",
       "      <td>1</td>\n",
       "      <td>33.000</td>\n",
       "      <td>3</td>\n",
       "      <td>0</td>\n",
       "      <td>southeast</td>\n",
       "      <td>4449.46200</td>\n",
       "    </tr>\n",
       "    <tr>\n",
       "      <th>3</th>\n",
       "      <td>33</td>\n",
       "      <td>1</td>\n",
       "      <td>22.705</td>\n",
       "      <td>0</td>\n",
       "      <td>0</td>\n",
       "      <td>northwest</td>\n",
       "      <td>21984.47061</td>\n",
       "    </tr>\n",
       "    <tr>\n",
       "      <th>4</th>\n",
       "      <td>32</td>\n",
       "      <td>1</td>\n",
       "      <td>28.880</td>\n",
       "      <td>0</td>\n",
       "      <td>0</td>\n",
       "      <td>northwest</td>\n",
       "      <td>3866.85520</td>\n",
       "    </tr>\n",
       "  </tbody>\n",
       "</table>\n",
       "</div>"
      ],
      "text/plain": [
       "   age  sex     bmi  children  smoker     region      charges\n",
       "0   19    0  27.900         0       1  southwest  16884.92400\n",
       "1   18    1  33.770         1       0  southeast   1725.55230\n",
       "2   28    1  33.000         3       0  southeast   4449.46200\n",
       "3   33    1  22.705         0       0  northwest  21984.47061\n",
       "4   32    1  28.880         0       0  northwest   3866.85520"
      ]
     },
     "execution_count": 130,
     "metadata": {},
     "output_type": "execute_result"
    }
   ],
   "source": [
    "df.head()"
   ]
  },
  {
   "cell_type": "markdown",
   "id": "83cdeae6-a3cf-4315-88b6-44cd764d6167",
   "metadata": {},
   "source": [
    "Now we have numeric values for sex and smoker columns. Since Region column has about 4 different regions, let's use enconding\n",
    "\n",
    "### OneHot Encoding"
   ]
  },
  {
   "cell_type": "code",
   "execution_count": 131,
   "id": "58a1dba1-9991-4f04-8deb-4819580fd8e9",
   "metadata": {},
   "outputs": [
    {
     "data": {
      "text/html": [
       "<div>\n",
       "<style scoped>\n",
       "    .dataframe tbody tr th:only-of-type {\n",
       "        vertical-align: middle;\n",
       "    }\n",
       "\n",
       "    .dataframe tbody tr th {\n",
       "        vertical-align: top;\n",
       "    }\n",
       "\n",
       "    .dataframe thead th {\n",
       "        text-align: right;\n",
       "    }\n",
       "</style>\n",
       "<table border=\"1\" class=\"dataframe\">\n",
       "  <thead>\n",
       "    <tr style=\"text-align: right;\">\n",
       "      <th></th>\n",
       "      <th>age</th>\n",
       "      <th>sex</th>\n",
       "      <th>bmi</th>\n",
       "      <th>children</th>\n",
       "      <th>smoker</th>\n",
       "      <th>charges</th>\n",
       "    </tr>\n",
       "  </thead>\n",
       "  <tbody>\n",
       "    <tr>\n",
       "      <th>0</th>\n",
       "      <td>19</td>\n",
       "      <td>0</td>\n",
       "      <td>27.900</td>\n",
       "      <td>0</td>\n",
       "      <td>1</td>\n",
       "      <td>16884.92400</td>\n",
       "    </tr>\n",
       "    <tr>\n",
       "      <th>1</th>\n",
       "      <td>18</td>\n",
       "      <td>1</td>\n",
       "      <td>33.770</td>\n",
       "      <td>1</td>\n",
       "      <td>0</td>\n",
       "      <td>1725.55230</td>\n",
       "    </tr>\n",
       "    <tr>\n",
       "      <th>2</th>\n",
       "      <td>28</td>\n",
       "      <td>1</td>\n",
       "      <td>33.000</td>\n",
       "      <td>3</td>\n",
       "      <td>0</td>\n",
       "      <td>4449.46200</td>\n",
       "    </tr>\n",
       "    <tr>\n",
       "      <th>3</th>\n",
       "      <td>33</td>\n",
       "      <td>1</td>\n",
       "      <td>22.705</td>\n",
       "      <td>0</td>\n",
       "      <td>0</td>\n",
       "      <td>21984.47061</td>\n",
       "    </tr>\n",
       "    <tr>\n",
       "      <th>4</th>\n",
       "      <td>32</td>\n",
       "      <td>1</td>\n",
       "      <td>28.880</td>\n",
       "      <td>0</td>\n",
       "      <td>0</td>\n",
       "      <td>3866.85520</td>\n",
       "    </tr>\n",
       "  </tbody>\n",
       "</table>\n",
       "</div>"
      ],
      "text/plain": [
       "   age  sex     bmi  children  smoker      charges\n",
       "0   19    0  27.900         0       1  16884.92400\n",
       "1   18    1  33.770         1       0   1725.55230\n",
       "2   28    1  33.000         3       0   4449.46200\n",
       "3   33    1  22.705         0       0  21984.47061\n",
       "4   32    1  28.880         0       0   3866.85520"
      ]
     },
     "execution_count": 131,
     "metadata": {},
     "output_type": "execute_result"
    }
   ],
   "source": [
    "# droping region as is a least feature I can use\n",
    "df = df.drop(['region'], axis=1)\n",
    "df.head()"
   ]
  },
  {
   "cell_type": "code",
   "execution_count": 115,
   "id": "f7a76555-40e2-4c33-9741-903d0d782438",
   "metadata": {},
   "outputs": [],
   "source": [
    "#OneHot encoding \n",
    "#df = pd.get_dummies(df,columns=['region'])\n",
    "#df.head()"
   ]
  },
  {
   "cell_type": "code",
   "execution_count": 116,
   "id": "28aee269-4275-40d7-8d48-6fe9311522ff",
   "metadata": {},
   "outputs": [
    {
     "data": {
      "text/plain": [
       "<AxesSubplot:>"
      ]
     },
     "execution_count": 116,
     "metadata": {},
     "output_type": "execute_result"
    },
    {
     "data": {
      "image/png": "[encoded data removed]",
      "text/plain": [
       "<Figure size 432x288 with 1 Axes>"
      ]
     },
     "metadata": {
      "needs_background": "light"
     },
     "output_type": "display_data"
    }
   ],
   "source": [
    "df.boxplot(column=['age','bmi','smoker'])"
   ]
  },
  {
   "cell_type": "code",
   "execution_count": 117,
   "id": "6ee597da-9326-4ca7-b391-54c45c1d958a",
   "metadata": {},
   "outputs": [
    {
     "data": {
      "text/plain": [
       "<AxesSubplot:>"
      ]
     },
     "execution_count": 117,
     "metadata": {},
     "output_type": "execute_result"
    },
    {
     "data": {
      "image/png": "[encoded data removed]",
      "text/plain": [
       "<Figure size 432x288 with 1 Axes>"
      ]
     },
     "metadata": {
      "needs_background": "light"
     },
     "output_type": "display_data"
    }
   ],
   "source": [
    "df.boxplot(column=['age','bmi','children'])"
   ]
  },
  {
   "cell_type": "markdown",
   "id": "7ae6e759-0dce-42c1-8336-1517c5e62d2e",
   "metadata": {},
   "source": [
    "## Step 2: Scalling our data\n",
    "\n",
    "From the boxplot above, we need to scale down our values\n",
    "\n",
    "We could use the following:\n",
    "* Standard Scaler\n",
    "* MinMax Scaler\n",
    "* Robust Scaler\n",
    "\n",
    "We using MinMax Scaler because the largest data point or feature will have a value close to 1 or 1 and the minimum value will be 0."
   ]
  },
  {
   "cell_type": "code",
   "execution_count": 101,
   "id": "9da9d9f4-4ae3-4cae-9644-7f2effedfa68",
   "metadata": {},
   "outputs": [],
   "source": [
    "from sklearn.preprocessing import MinMaxScaler\n",
    "\n",
    "#data_scaler = MinMaxScaler()\n",
    "\n",
    "#scaled_data = data_scaler.fit_transform(df.to_numpy())"
   ]
  },
  {
   "cell_type": "code",
   "execution_count": 102,
   "id": "e8f28466-f8fa-43b5-b0cc-9aff22ac141b",
   "metadata": {},
   "outputs": [],
   "source": [
    "#scaled_data = pd.DataFrame(scaled_data,columns=['age','sex','bmi','children','smoker','charges','region_northeast','region_northwest','region_southeast', 'region_southwest'])"
   ]
  },
  {
   "cell_type": "code",
   "execution_count": 103,
   "id": "f42ece9a-3eed-4d7e-b21b-1a2ec6a9eb77",
   "metadata": {},
   "outputs": [],
   "source": [
    "#scaled_data.dtypes"
   ]
  },
  {
   "cell_type": "code",
   "execution_count": 104,
   "id": "55907fcf-1fd1-47c5-8faa-ae1f57ae84c8",
   "metadata": {},
   "outputs": [
    {
     "data": {
      "text/plain": [
       "<AxesSubplot:>"
      ]
     },
     "execution_count": 104,
     "metadata": {},
     "output_type": "execute_result"
    },
    {
     "data": {
      "image/png": "[encoded data removed]",
      "text/plain": [
       "<Figure size 432x288 with 1 Axes>"
      ]
     },
     "metadata": {
      "needs_background": "light"
     },
     "output_type": "display_data"
    }
   ],
   "source": [
    "#scaled_data.boxplot(column=['age','bmi','smoker'])"
   ]
  },
  {
   "cell_type": "code",
   "execution_count": 105,
   "id": "681a1a91-2a72-4baf-bffb-c1ef8379d642",
   "metadata": {},
   "outputs": [
    {
     "data": {
      "text/plain": [
       "<AxesSubplot:>"
      ]
     },
     "execution_count": 105,
     "metadata": {},
     "output_type": "execute_result"
    },
    {
     "data": {
      "image/png": "[encoded data removed]",
      "text/plain": [
       "<Figure size 432x288 with 1 Axes>"
      ]
     },
     "metadata": {
      "needs_background": "light"
     },
     "output_type": "display_data"
    }
   ],
   "source": [
    "#scaled_data.boxplot(column=['age','bmi','children'])"
   ]
  },
  {
   "cell_type": "markdown",
   "id": "d1cdb82c-d06b-426f-97d3-a17dee1bfc1b",
   "metadata": {},
   "source": [
    "## Step 3: Splitting Dataset into training and test"
   ]
  },
  {
   "cell_type": "code",
   "execution_count": 132,
   "id": "37e544d7-5d35-4182-b030-897ffbc368fe",
   "metadata": {},
   "outputs": [],
   "source": [
    "# First we need to take out features and targets in our dataset\n",
    "feature_columns = ['age', 'sex', 'bmi', 'children', 'smoker']\n",
    "X_features = df.drop(['charges'], axis=1) #axis = 1 means we taking the whole column and drop it. axis = 0 means whole row\n",
    "Y_targets = df[['charges']]"
   ]
  },
  {
   "cell_type": "code",
   "execution_count": 141,
   "id": "5dd91fd0-c368-40b0-90b2-79b6175cbc19",
   "metadata": {},
   "outputs": [],
   "source": [
    "from sklearn.model_selection import train_test_split\n",
    "\n",
    "X_train,X_test,y_train,y_test = train_test_split(X_features,Y_targets,test_size=0.2, random_state=40)"
   ]
  },
  {
   "cell_type": "code",
   "execution_count": 142,
   "id": "15a072ad-170b-40d5-9d73-5a73127df17f",
   "metadata": {},
   "outputs": [
    {
     "data": {
      "text/html": [
       "<div>\n",
       "<style scoped>\n",
       "    .dataframe tbody tr th:only-of-type {\n",
       "        vertical-align: middle;\n",
       "    }\n",
       "\n",
       "    .dataframe tbody tr th {\n",
       "        vertical-align: top;\n",
       "    }\n",
       "\n",
       "    .dataframe thead th {\n",
       "        text-align: right;\n",
       "    }\n",
       "</style>\n",
       "<table border=\"1\" class=\"dataframe\">\n",
       "  <thead>\n",
       "    <tr style=\"text-align: right;\">\n",
       "      <th></th>\n",
       "      <th>age</th>\n",
       "      <th>sex</th>\n",
       "      <th>bmi</th>\n",
       "      <th>children</th>\n",
       "      <th>smoker</th>\n",
       "    </tr>\n",
       "  </thead>\n",
       "  <tbody>\n",
       "    <tr>\n",
       "      <th>737</th>\n",
       "      <td>26</td>\n",
       "      <td>1</td>\n",
       "      <td>23.70</td>\n",
       "      <td>2</td>\n",
       "      <td>0</td>\n",
       "    </tr>\n",
       "    <tr>\n",
       "      <th>369</th>\n",
       "      <td>18</td>\n",
       "      <td>1</td>\n",
       "      <td>30.40</td>\n",
       "      <td>3</td>\n",
       "      <td>0</td>\n",
       "    </tr>\n",
       "    <tr>\n",
       "      <th>284</th>\n",
       "      <td>52</td>\n",
       "      <td>0</td>\n",
       "      <td>31.20</td>\n",
       "      <td>0</td>\n",
       "      <td>0</td>\n",
       "    </tr>\n",
       "    <tr>\n",
       "      <th>1302</th>\n",
       "      <td>25</td>\n",
       "      <td>0</td>\n",
       "      <td>20.80</td>\n",
       "      <td>1</td>\n",
       "      <td>0</td>\n",
       "    </tr>\n",
       "    <tr>\n",
       "      <th>958</th>\n",
       "      <td>43</td>\n",
       "      <td>1</td>\n",
       "      <td>34.96</td>\n",
       "      <td>1</td>\n",
       "      <td>1</td>\n",
       "    </tr>\n",
       "  </tbody>\n",
       "</table>\n",
       "</div>"
      ],
      "text/plain": [
       "      age  sex    bmi  children  smoker\n",
       "737    26    1  23.70         2       0\n",
       "369    18    1  30.40         3       0\n",
       "284    52    0  31.20         0       0\n",
       "1302   25    0  20.80         1       0\n",
       "958    43    1  34.96         1       1"
      ]
     },
     "execution_count": 142,
     "metadata": {},
     "output_type": "execute_result"
    }
   ],
   "source": [
    "X_train.head()"
   ]
  },
  {
   "cell_type": "markdown",
   "id": "64af848a-0dc2-47e7-a250-33840d2f144f",
   "metadata": {},
   "source": [
    "Applying Linear Regression as the first model"
   ]
  },
  {
   "cell_type": "code",
   "execution_count": 143,
   "id": "b4b3ab47-cf4c-419c-8d46-180c2ae52a02",
   "metadata": {},
   "outputs": [
    {
     "data": {
      "text/plain": [
       "LinearRegression()"
      ]
     },
     "execution_count": 143,
     "metadata": {},
     "output_type": "execute_result"
    }
   ],
   "source": [
    "from sklearn.linear_model import LinearRegression\n",
    "\n",
    "linear_r = LinearRegression()\n",
    "linear_r.fit(X_train,y_train)"
   ]
  },
  {
   "cell_type": "code",
   "execution_count": 85,
   "id": "a4fae7da-86df-4c01-afa7-ac460f9fd75e",
   "metadata": {},
   "outputs": [
    {
     "name": "stdout",
     "output_type": "stream",
     "text": [
      "Intercept - [1.87015889e+12] \n",
      "Intercept - [0.1955714086586708, -0.006293093177153115, 0.194750816121175, 0.034297352532725554, 0.3775608665750464, -1870158889122.3176, -1870158889122.329, -1870158889122.3367, -1870158889122.3347] \n"
     ]
    }
   ],
   "source": [
    "# Let's get the coef for each feature.\n",
    "\n",
    "#linear_r.intercept_\n",
    "#linear_r.coef_\n",
    "\n",
    "#feature_columns #checking our column names\n",
    "#feature_columns.insert(0,'Intercept')\n",
    "#feature_columns #output after insertion\n",
    "\n",
    "#coeficient = linear_r.coef_.tolist()\n",
    "#coeficient\n",
    "#coeficient.insert(0,linear_r.intercept_)\n",
    "\n",
    "#equation_1 = zip(feature_columns, coeficient)\n",
    "\n",
    "#for const1, const2 in equation_1:\n",
    "#    print(f\"{const1} - {const2} \")"
   ]
  },
  {
   "cell_type": "markdown",
   "id": "c5bebb00-0320-405f-ba8a-b809631238cb",
   "metadata": {},
   "source": [
    "Prediction time"
   ]
  },
  {
   "cell_type": "code",
   "execution_count": 144,
   "id": "afb6366d-456e-4938-aff5-6f4a86fcedc1",
   "metadata": {},
   "outputs": [],
   "source": [
    "y_train_pred = linear_r.predict(X_train)"
   ]
  },
  {
   "cell_type": "code",
   "execution_count": 145,
   "id": "c93ea611-15c1-4bc4-a718-ca3e3a2660c3",
   "metadata": {},
   "outputs": [],
   "source": [
    "# Model predictions using test data\n",
    "y_test_pred = linear_r.predict(X_test)"
   ]
  },
  {
   "cell_type": "code",
   "execution_count": 149,
   "id": "35a1f60e-dd9f-4b77-b75c-d396b81c1cf0",
   "metadata": {},
   "outputs": [
    {
     "data": {
      "text/html": [
       "<div>\n",
       "<style scoped>\n",
       "    .dataframe tbody tr th:only-of-type {\n",
       "        vertical-align: middle;\n",
       "    }\n",
       "\n",
       "    .dataframe tbody tr th {\n",
       "        vertical-align: top;\n",
       "    }\n",
       "\n",
       "    .dataframe thead th {\n",
       "        text-align: right;\n",
       "    }\n",
       "</style>\n",
       "<table border=\"1\" class=\"dataframe\">\n",
       "  <thead>\n",
       "    <tr style=\"text-align: right;\">\n",
       "      <th></th>\n",
       "      <th>age</th>\n",
       "      <th>sex</th>\n",
       "      <th>bmi</th>\n",
       "      <th>children</th>\n",
       "      <th>smoker</th>\n",
       "      <th>true_charge</th>\n",
       "      <th>predicted_charge</th>\n",
       "    </tr>\n",
       "  </thead>\n",
       "  <tbody>\n",
       "    <tr>\n",
       "      <th>1099</th>\n",
       "      <td>25</td>\n",
       "      <td>0</td>\n",
       "      <td>33.99</td>\n",
       "      <td>1</td>\n",
       "      <td>0</td>\n",
       "      <td>3227.1211</td>\n",
       "      <td>5789.952131</td>\n",
       "    </tr>\n",
       "    <tr>\n",
       "      <th>759</th>\n",
       "      <td>18</td>\n",
       "      <td>1</td>\n",
       "      <td>38.17</td>\n",
       "      <td>0</td>\n",
       "      <td>1</td>\n",
       "      <td>36307.7983</td>\n",
       "      <td>28401.562012</td>\n",
       "    </tr>\n",
       "    <tr>\n",
       "      <th>215</th>\n",
       "      <td>41</td>\n",
       "      <td>0</td>\n",
       "      <td>37.10</td>\n",
       "      <td>2</td>\n",
       "      <td>0</td>\n",
       "      <td>7371.7720</td>\n",
       "      <td>11434.611916</td>\n",
       "    </tr>\n",
       "  </tbody>\n",
       "</table>\n",
       "</div>"
      ],
      "text/plain": [
       "      age  sex    bmi  children  smoker  true_charge  predicted_charge\n",
       "1099   25    0  33.99         1       0    3227.1211       5789.952131\n",
       "759    18    1  38.17         0       1   36307.7983      28401.562012\n",
       "215    41    0  37.10         2       0    7371.7720      11434.611916"
      ]
     },
     "execution_count": 149,
     "metadata": {},
     "output_type": "execute_result"
    }
   ],
   "source": [
    "test_results = X_test.copy()\n",
    "test_results['true_charge'] = y_test\n",
    "test_results['predicted_charge'] = y_test_pred\n",
    "\n",
    "test_results.head(3)"
   ]
  },
  {
   "cell_type": "code",
   "execution_count": null,
   "id": "92fc502e-52c2-4c6b-adb4-11a5eb640fa1",
   "metadata": {},
   "outputs": [],
   "source": []
  }
 ],
 "metadata": {
  "kernelspec": {
   "display_name": "PyCharm (EDA)",
   "language": "python",
   "name": "pycharm-15d41b21"
  },
  "language_info": {
   "codemirror_mode": {
    "name": "ipython",
    "version": 3
   },
   "file_extension": ".py",
   "mimetype": "text/x-python",
   "name": "python",
   "nbconvert_exporter": "python",
   "pygments_lexer": "ipython3",
   "version": "3.8.4"
  }
 },
 "nbformat": 4,
 "nbformat_minor": 5
}
